{
 "cells": [
  {
   "cell_type": "code",
   "execution_count": 17,
   "metadata": {},
   "outputs": [],
   "source": [
    "import sys, os\n",
    "import numpy as np\n",
    "import pandas as pd"
   ]
  },
  {
   "cell_type": "code",
   "execution_count": 18,
   "metadata": {},
   "outputs": [
    {
     "name": "stdout",
     "output_type": "stream",
     "text": [
      "            sid      list    delist list_entry delist_entry\n",
      "0     600087.SH  19970612  20140605        NaN          NaN\n",
      "1     601268.SH  20100202  20150521        NaN          NaN\n",
      "2     T00018.SH  20000719  20061020        NaN          NaN\n",
      "3     300258.SZ  20110826       NaN        NaN          NaN\n",
      "4     600854.SH  19940425       NaN        NaN          NaN\n",
      "...         ...       ...       ...        ...          ...\n",
      "5665  301622.SZ  20241204       NaN   20241204          NaN\n",
      "5666  920098.BJ  20241205       NaN   20241203          NaN\n",
      "5667  688708.SH  20241205       NaN   20241204          NaN\n",
      "5668  301617.SZ  20241211       NaN   20241210          NaN\n",
      "5669  688605.SH  20241212       NaN   20241211          NaN\n",
      "\n",
      "[5670 rows x 5 columns]\n",
      "5670\n",
      "5407\n"
     ]
    }
   ],
   "source": [
    "input = 'sec_master.origin' \n",
    "\n",
    "df = pd.read_csv(input, sep='|', dtype=str)\n",
    "# test BJ in df['sid'] as last 2 characters\n",
    "print(df)\n",
    "print(len(df))\n",
    "df = df[df['sid'].str[-2:] != 'BJ']\n",
    "print(len(df))\n",
    "# sort by sid\n",
    "df.sort_values(by='sid', inplace=True)\n",
    "df.to_csv('sec_master.out', sep='|', index=False)"
   ]
  },
  {
   "cell_type": "code",
   "execution_count": null,
   "metadata": {},
   "outputs": [],
   "source": []
  }
 ],
 "metadata": {
  "kernelspec": {
   "display_name": "billi",
   "language": "python",
   "name": "python3"
  },
  "language_info": {
   "codemirror_mode": {
    "name": "ipython",
    "version": 3
   },
   "file_extension": ".py",
   "mimetype": "text/x-python",
   "name": "python",
   "nbconvert_exporter": "python",
   "pygments_lexer": "ipython3",
   "version": "3.9.6"
  }
 },
 "nbformat": 4,
 "nbformat_minor": 2
}

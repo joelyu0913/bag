{
 "cells": [
  {
   "cell_type": "code",
   "execution_count": 16,
   "metadata": {},
   "outputs": [
    {
     "name": "stdout",
     "output_type": "stream",
     "text": [
      "The autoreload extension is already loaded. To reload it, use:\n",
      "  %reload_ext autoreload\n"
     ]
    }
   ],
   "source": [
    "%load_ext autoreload\n",
    "%autoreload 2\n",
    "import sys, os\n",
    "import numpy as np\n",
    "\n",
    "sys.path.append('src')\n",
    "# sys.path = ['src']\n",
    "from basic.lib.simm import Sim\n",
    "\n",
    "sim = Sim({'cache_dir': '/export/data/billi/tmp/tmp_simlf/cache/cn'})\n",
    "sys.path = ['/home/billi/entrance/analytool/dao/bag/simlf',  '/home/billi/miniconda3/envs/billi/lib/python39.zip', '/home/billi/miniconda3/envs/billi/lib/python3.9', '/home/billi/miniconda3/envs/billi/lib/python3.9/lib-dynload', '/home/billi/miniconda3/envs/billi/lib/python3.9/site-packages', 'src']\n"
   ]
  },
  {
   "cell_type": "code",
   "execution_count": 17,
   "metadata": {},
   "outputs": [],
   "source": [
    "sim_ = Sim({'cache_dir': '/export/data/billi/tmp/yang/cache/cn/'})"
   ]
  },
  {
   "cell_type": "code",
   "execution_count": 18,
   "metadata": {},
   "outputs": [],
   "source": [
    "x = sim.load_mod('sup_taq/i_trd_dvol')\n",
    "y = sim_.load_mod('sup_taq/i_trd_dvol')\n"
   ]
  },
  {
   "cell_type": "code",
   "execution_count": null,
   "metadata": {},
   "outputs": [
    {
     "data": {
      "text/plain": [
       "(2877, 50, 6000)"
      ]
     },
     "execution_count": 23,
     "metadata": {},
     "output_type": "execute_result"
    }
   ],
   "source": []
  },
  {
   "cell_type": "code",
   "execution_count": 27,
   "metadata": {},
   "outputs": [
    {
     "data": {
      "text/plain": [
       "(array([   0,    0,    1, ..., 2454, 2454, 2454]),\n",
       " array([0, 0, 0, ..., 0, 0, 0]),\n",
       " array([3671, 3683, 3671, ..., 4771, 4883, 4886]))"
      ]
     },
     "execution_count": 27,
     "metadata": {},
     "output_type": "execute_result"
    }
   ],
   "source": [
    "mask = np.abs(x[:y.shape[0]] - y) > 0.1\n",
    "np.where(mask)"
   ]
  },
  {
   "cell_type": "code",
   "execution_count": 32,
   "metadata": {},
   "outputs": [
    {
     "data": {
      "text/plain": [
       "(memmap([2568006.,      nan,      nan,      nan,      nan], dtype=float32),\n",
       " memmap([ 0., nan, nan, nan, nan], dtype=float32))"
      ]
     },
     "execution_count": 32,
     "metadata": {},
     "output_type": "execute_result"
    }
   ],
   "source": [
    "x[3, 0:5, 3671], y[3, 0:5, 3671]"
   ]
  },
  {
   "cell_type": "code",
   "execution_count": 35,
   "metadata": {},
   "outputs": [
    {
     "data": {
      "text/plain": [
       "(memmap([1211760., 5418456.,  575262.,  789930.,  118054.,  122610.,\n",
       "          123950.,  445148.,  196578.,   97016.,  169644.,  130382.,\n",
       "          169778.,  486018.,  189610.,   27738.,   25862.,  111354.,\n",
       "          306056.,   48106.,   34974.,   77452.,   17956.,   86832.,\n",
       "          115240.,      nan,  424378.,  104654.,   61104.,   32562.,\n",
       "           74772.,    8576.,   55610.,   66464.,   24120.,   37386.,\n",
       "           29480.,  100232.,   19296.,   70886.,  152760.,  127702.,\n",
       "           73030.,  296542.,   13534.,   23584.,   35912.,  122342.,\n",
       "          226996.,  276442.], dtype=float32),\n",
       " memmap([1211760., 5418456.,  575262.,  789930.,  118054.,  122610.,\n",
       "          123950.,  445148.,  196578.,   97016.,  169644.,  130382.,\n",
       "          169778.,  486018.,  189610.,   27738.,   25862.,  111354.,\n",
       "          306056.,   48106.,   34974.,   77452.,   17956.,   86832.,\n",
       "          115240.,      nan,  424378.,  104654.,   61104.,   32562.,\n",
       "           74772.,    8576.,   55610.,   66464.,   24120.,   37386.,\n",
       "           29480.,  100232.,   19296.,   70886.,  152760.,  127702.,\n",
       "           73030.,  296542.,   13534.,   23584.,   35912.,  122342.,\n",
       "          226996.,  276442.], dtype=float32))"
      ]
     },
     "execution_count": 35,
     "metadata": {},
     "output_type": "execute_result"
    }
   ],
   "source": [
    "x[0,:,0], y[0,:,0]"
   ]
  },
  {
   "cell_type": "code",
   "execution_count": 38,
   "metadata": {},
   "outputs": [
    {
     "data": {
      "text/plain": [
       "(memmap([[[1.35, 5.1 ,  nan, ...,  nan,  nan,  nan],\n",
       "          [1.34, 5.11,  nan, ...,  nan,  nan,  nan],\n",
       "          [1.34, 5.14,  nan, ...,  nan,  nan,  nan],\n",
       "          ...,\n",
       "          [1.34, 5.07,  nan, ...,  nan,  nan,  nan],\n",
       "          [1.34, 5.06,  nan, ...,  nan,  nan,  nan],\n",
       "          [1.34, 5.05,  nan, ...,  nan,  nan,  nan]],\n",
       " \n",
       "         [[1.3 , 5.02,  nan, ...,  nan,  nan,  nan],\n",
       "          [1.28, 5.07,  nan, ...,  nan,  nan,  nan],\n",
       "          [1.27, 5.11,  nan, ...,  nan,  nan,  nan],\n",
       "          ...,\n",
       "          [1.33, 5.13,  nan, ...,  nan,  nan,  nan],\n",
       "          [1.32, 5.13,  nan, ...,  nan,  nan,  nan],\n",
       "          [1.33, 5.12,  nan, ...,  nan,  nan,  nan]],\n",
       " \n",
       "         [[1.32, 5.14,  nan, ...,  nan,  nan,  nan],\n",
       "          [1.32, 5.13,  nan, ...,  nan,  nan,  nan],\n",
       "          [1.32, 5.1 ,  nan, ...,  nan,  nan,  nan],\n",
       "          ...,\n",
       "          [1.31, 5.11,  nan, ...,  nan,  nan,  nan],\n",
       "          [1.32, 5.1 ,  nan, ...,  nan,  nan,  nan],\n",
       "          [1.32, 5.1 ,  nan, ...,  nan,  nan,  nan]],\n",
       " \n",
       "         ...,\n",
       " \n",
       "         [[ nan,  nan,  nan, ...,  nan,  nan,  nan],\n",
       "          [ nan,  nan,  nan, ...,  nan,  nan,  nan],\n",
       "          [ nan,  nan,  nan, ...,  nan,  nan,  nan],\n",
       "          ...,\n",
       "          [ nan,  nan,  nan, ...,  nan,  nan,  nan],\n",
       "          [ nan,  nan,  nan, ...,  nan,  nan,  nan],\n",
       "          [ nan,  nan,  nan, ...,  nan,  nan,  nan]],\n",
       " \n",
       "         [[ nan,  nan,  nan, ...,  nan,  nan,  nan],\n",
       "          [ nan,  nan,  nan, ...,  nan,  nan,  nan],\n",
       "          [ nan,  nan,  nan, ...,  nan,  nan,  nan],\n",
       "          ...,\n",
       "          [ nan,  nan,  nan, ...,  nan,  nan,  nan],\n",
       "          [ nan,  nan,  nan, ...,  nan,  nan,  nan],\n",
       "          [ nan,  nan,  nan, ...,  nan,  nan,  nan]],\n",
       " \n",
       "         [[ nan,  nan,  nan, ...,  nan,  nan,  nan],\n",
       "          [ nan,  nan,  nan, ...,  nan,  nan,  nan],\n",
       "          [ nan,  nan,  nan, ...,  nan,  nan,  nan],\n",
       "          ...,\n",
       "          [ nan,  nan,  nan, ...,  nan,  nan,  nan],\n",
       "          [ nan,  nan,  nan, ...,  nan,  nan,  nan],\n",
       "          [ nan,  nan,  nan, ...,  nan,  nan,  nan]]], dtype=float32),\n",
       " memmap([[[1.35, 5.1 ,  nan, ...,  nan,  nan,  nan],\n",
       "          [1.34, 5.11,  nan, ...,  nan,  nan,  nan],\n",
       "          [1.34, 5.14,  nan, ...,  nan,  nan,  nan],\n",
       "          ...,\n",
       "          [1.34, 5.07,  nan, ...,  nan,  nan,  nan],\n",
       "          [1.34, 5.06,  nan, ...,  nan,  nan,  nan],\n",
       "          [1.34, 5.05,  nan, ...,  nan,  nan,  nan]],\n",
       " \n",
       "         [[1.3 , 5.02,  nan, ...,  nan,  nan,  nan],\n",
       "          [1.28, 5.07,  nan, ...,  nan,  nan,  nan],\n",
       "          [1.27, 5.11,  nan, ...,  nan,  nan,  nan],\n",
       "          ...,\n",
       "          [1.33, 5.13,  nan, ...,  nan,  nan,  nan],\n",
       "          [1.32, 5.13,  nan, ...,  nan,  nan,  nan],\n",
       "          [1.33, 5.12,  nan, ...,  nan,  nan,  nan]],\n",
       " \n",
       "         [[1.32, 5.14,  nan, ...,  nan,  nan,  nan],\n",
       "          [1.32, 5.13,  nan, ...,  nan,  nan,  nan],\n",
       "          [1.32, 5.1 ,  nan, ...,  nan,  nan,  nan],\n",
       "          ...,\n",
       "          [1.31, 5.11,  nan, ...,  nan,  nan,  nan],\n",
       "          [1.32, 5.1 ,  nan, ...,  nan,  nan,  nan],\n",
       "          [1.32, 5.1 ,  nan, ...,  nan,  nan,  nan]],\n",
       " \n",
       "         ...,\n",
       " \n",
       "         [[ nan,  nan,  nan, ...,  nan,  nan,  nan],\n",
       "          [ nan,  nan,  nan, ...,  nan,  nan,  nan],\n",
       "          [ nan,  nan,  nan, ...,  nan,  nan,  nan],\n",
       "          ...,\n",
       "          [ nan,  nan,  nan, ...,  nan,  nan,  nan],\n",
       "          [ nan,  nan,  nan, ...,  nan,  nan,  nan],\n",
       "          [ nan,  nan,  nan, ...,  nan,  nan,  nan]],\n",
       " \n",
       "         [[ nan,  nan,  nan, ...,  nan,  nan,  nan],\n",
       "          [ nan,  nan,  nan, ...,  nan,  nan,  nan],\n",
       "          [ nan,  nan,  nan, ...,  nan,  nan,  nan],\n",
       "          ...,\n",
       "          [ nan,  nan,  nan, ...,  nan,  nan,  nan],\n",
       "          [ nan,  nan,  nan, ...,  nan,  nan,  nan],\n",
       "          [ nan,  nan,  nan, ...,  nan,  nan,  nan]],\n",
       " \n",
       "         [[ nan,  nan,  nan, ...,  nan,  nan,  nan],\n",
       "          [ nan,  nan,  nan, ...,  nan,  nan,  nan],\n",
       "          [ nan,  nan,  nan, ...,  nan,  nan,  nan],\n",
       "          ...,\n",
       "          [ nan,  nan,  nan, ...,  nan,  nan,  nan],\n",
       "          [ nan,  nan,  nan, ...,  nan,  nan,  nan],\n",
       "          [ nan,  nan,  nan, ...,  nan,  nan,  nan]]], dtype=float32))"
      ]
     },
     "execution_count": 38,
     "metadata": {},
     "output_type": "execute_result"
    }
   ],
   "source": [
    "x = sim.load_mod('sup_taq/i_trd_last')\n",
    "y = sim_.load_mod('sup_taq/i_trd_last')\n",
    "x, y"
   ]
  },
  {
   "cell_type": "code",
   "execution_count": 39,
   "metadata": {},
   "outputs": [
    {
     "data": {
      "text/plain": [
       "(array([], dtype=int64), array([], dtype=int64), array([], dtype=int64))"
      ]
     },
     "execution_count": 39,
     "metadata": {},
     "output_type": "execute_result"
    }
   ],
   "source": [
    "mask = np.abs(x[:y.shape[0]] - y) > 0.1\n",
    "np.where(mask)"
   ]
  },
  {
   "cell_type": "code",
   "execution_count": null,
   "metadata": {},
   "outputs": [
    {
     "data": {
      "text/plain": [
       "array([[[False, False, False, ..., False, False, False],\n",
       "        [False, False, False, ..., False, False, False],\n",
       "        [False, False, False, ..., False, False, False],\n",
       "        ...,\n",
       "        [False, False, False, ..., False, False, False],\n",
       "        [False, False, False, ..., False, False, False],\n",
       "        [False, False, False, ..., False, False, False]],\n",
       "\n",
       "       [[False, False, False, ..., False, False, False],\n",
       "        [False, False, False, ..., False, False, False],\n",
       "        [False, False, False, ..., False, False, False],\n",
       "        ...,\n",
       "        [False, False, False, ..., False, False, False],\n",
       "        [False, False, False, ..., False, False, False],\n",
       "        [False, False, False, ..., False, False, False]],\n",
       "\n",
       "       [[False, False, False, ..., False, False, False],\n",
       "        [False, False, False, ..., False, False, False],\n",
       "        [False, False, False, ..., False, False, False],\n",
       "        ...,\n",
       "        [False, False, False, ..., False, False, False],\n",
       "        [False, False, False, ..., False, False, False],\n",
       "        [False, False, False, ..., False, False, False]],\n",
       "\n",
       "       ...,\n",
       "\n",
       "       [[False, False, False, ..., False, False, False],\n",
       "        [False, False, False, ..., False, False, False],\n",
       "        [False, False, False, ..., False, False, False],\n",
       "        ...,\n",
       "        [False, False, False, ..., False, False, False],\n",
       "        [False, False, False, ..., False, False, False],\n",
       "        [False, False, False, ..., False, False, False]],\n",
       "\n",
       "       [[False, False, False, ..., False, False, False],\n",
       "        [False, False, False, ..., False, False, False],\n",
       "        [False, False, False, ..., False, False, False],\n",
       "        ...,\n",
       "        [False, False, False, ..., False, False, False],\n",
       "        [False, False, False, ..., False, False, False],\n",
       "        [False, False, False, ..., False, False, False]],\n",
       "\n",
       "       [[False, False, False, ..., False, False, False],\n",
       "        [False, False, False, ..., False, False, False],\n",
       "        [False, False, False, ..., False, False, False],\n",
       "        ...,\n",
       "        [False, False, False, ..., False, False, False],\n",
       "        [False, False, False, ..., False, False, False],\n",
       "        [False, False, False, ..., False, False, False]]])"
      ]
     },
     "execution_count": 52,
     "metadata": {},
     "output_type": "execute_result"
    }
   ],
   "source": [
    "t = np.logical_xor(np.isfinite(x[:y.shape[0]]), np.isfinite(y))"
   ]
  },
  {
   "cell_type": "code",
   "execution_count": null,
   "metadata": {},
   "outputs": [
    {
     "data": {
      "text/plain": [
       "(array([   0,    0,    0, ..., 2454, 2454, 2454]),\n",
       " array([ 0,  0,  1, ..., 49, 49, 49]),\n",
       " array([3671, 3683, 3671, ..., 4886, 4895, 4904]))"
      ]
     },
     "execution_count": 53,
     "metadata": {},
     "output_type": "execute_result"
    }
   ],
   "source": [
    "np.where(t)"
   ]
  },
  {
   "cell_type": "code",
   "execution_count": 55,
   "metadata": {},
   "outputs": [
    {
     "data": {
      "text/plain": [
       "(memmap([7., 7., 7., 7., 7.], dtype=float32),\n",
       " memmap([nan, nan, nan, nan, nan], dtype=float32))"
      ]
     },
     "execution_count": 55,
     "metadata": {},
     "output_type": "execute_result"
    }
   ],
   "source": [
    "x[0,0:5, 3671], y[0,0:5, 3671]"
   ]
  },
  {
   "cell_type": "code",
   "execution_count": 57,
   "metadata": {},
   "outputs": [
    {
     "ename": "IndexError",
     "evalue": "too many indices for array: array is 2-dimensional, but 3 were indexed",
     "output_type": "error",
     "traceback": [
      "\u001b[0;31m---------------------------------------------------------------------------\u001b[0m",
      "\u001b[0;31mIndexError\u001b[0m                                Traceback (most recent call last)",
      "Cell \u001b[0;32mIn[57], line 3\u001b[0m\n\u001b[1;32m      1\u001b[0m sim\u001b[38;5;241m.\u001b[39mregister_pnl3()\u001b[38;5;241m.\u001b[39mpnl3\u001b[38;5;241m.\u001b[39mset_fields(region\u001b[38;5;241m=\u001b[39m\u001b[38;5;124m'\u001b[39m\u001b[38;5;124mcn\u001b[39m\u001b[38;5;124m'\u001b[39m)\n\u001b[0;32m----> 3\u001b[0m \u001b[43msim\u001b[49m\u001b[38;5;241;43m.\u001b[39;49m\u001b[43mpnl3\u001b[49m\u001b[38;5;241;43m.\u001b[39;49m\u001b[43mshow_pnls\u001b[49m\u001b[43m(\u001b[49m\u001b[43mx\u001b[49m\u001b[43m,\u001b[49m\u001b[43m \u001b[49m\u001b[43mstart_date\u001b[49m\u001b[38;5;241;43m=\u001b[39;49m\u001b[38;5;241;43m20220101\u001b[39;49m\u001b[43m,\u001b[49m\u001b[43m \u001b[49m\u001b[43mfreq\u001b[49m\u001b[38;5;241;43m=\u001b[39;49m\u001b[38;5;124;43m'\u001b[39;49m\u001b[38;5;124;43myearly\u001b[39;49m\u001b[38;5;124;43m'\u001b[39;49m\u001b[43m,\u001b[49m\u001b[43m \u001b[49m\u001b[43mplot\u001b[49m\u001b[38;5;241;43m=\u001b[39;49m\u001b[38;5;28;43;01mFalse\u001b[39;49;00m\u001b[43m)\u001b[49m\n",
      "File \u001b[0;32m~/entrance/analytool/dao/bag/simlf/src/basic/lib/pnl3.py:597\u001b[0m, in \u001b[0;36mPnl3.show_pnls\u001b[0;34m(self, sig_, start_date, end_date, freq, update_info, plot, plot_type, ops)\u001b[0m\n\u001b[1;32m    586\u001b[0m \u001b[38;5;28;01mdef\u001b[39;00m \u001b[38;5;21mshow_pnls\u001b[39m(\n\u001b[1;32m    587\u001b[0m     \u001b[38;5;28mself\u001b[39m,\n\u001b[1;32m    588\u001b[0m     sig_,\n\u001b[0;32m   (...)\u001b[0m\n\u001b[1;32m    595\u001b[0m     ops\u001b[38;5;241m=\u001b[39m\u001b[38;5;28;01mNone\u001b[39;00m,\n\u001b[1;32m    596\u001b[0m ):\n\u001b[0;32m--> 597\u001b[0m     _ \u001b[38;5;241m=\u001b[39m \u001b[38;5;28;43mself\u001b[39;49m\u001b[38;5;241;43m.\u001b[39;49m\u001b[43mcompute_pnls\u001b[49m\u001b[43m(\u001b[49m\u001b[43msig_\u001b[49m\u001b[43m,\u001b[49m\u001b[43m \u001b[49m\u001b[43mops\u001b[49m\u001b[43m,\u001b[49m\u001b[43m \u001b[49m\u001b[43mstart_date\u001b[49m\u001b[43m,\u001b[49m\u001b[43m \u001b[49m\u001b[43mend_date\u001b[49m\u001b[43m,\u001b[49m\u001b[43m \u001b[49m\u001b[43mfreq\u001b[49m\u001b[43m,\u001b[49m\u001b[43m \u001b[49m\u001b[43mupdate_info\u001b[49m\u001b[43m)\u001b[49m\n\u001b[1;32m    598\u001b[0m     mp_info \u001b[38;5;241m=\u001b[39m {key: [] \u001b[38;5;28;01mfor\u001b[39;00m key \u001b[38;5;129;01min\u001b[39;00m _[\u001b[38;5;241m1\u001b[39m]}\n\u001b[1;32m    600\u001b[0m     \u001b[38;5;28;01mfor\u001b[39;00m key \u001b[38;5;129;01min\u001b[39;00m _[\u001b[38;5;241m1\u001b[39m]:\n",
      "File \u001b[0;32m~/entrance/analytool/dao/bag/simlf/src/basic/lib/pnl3.py:530\u001b[0m, in \u001b[0;36mPnl3.compute_pnls\u001b[0;34m(self, sig_, ops, start_date, end_date, freq, update_info)\u001b[0m\n\u001b[1;32m    527\u001b[0m         info[\u001b[38;5;124m\"\u001b[39m\u001b[38;5;124mfee_rate\u001b[39m\u001b[38;5;124m\"\u001b[39m] \u001b[38;5;241m=\u001b[39m \u001b[38;5;28mself\u001b[39m\u001b[38;5;241m.\u001b[39mfee_config(info[\u001b[38;5;124m\"\u001b[39m\u001b[38;5;124mfee_rate\u001b[39m\u001b[38;5;124m\"\u001b[39m], start_date, end_date)\n\u001b[1;32m    529\u001b[0m \u001b[38;5;28;01mif\u001b[39;00m sig\u001b[38;5;241m.\u001b[39mndim \u001b[38;5;241m==\u001b[39m \u001b[38;5;241m3\u001b[39m:\n\u001b[0;32m--> 530\u001b[0m     \u001b[43mcal_ts_info_3d\u001b[49m\u001b[43m(\u001b[49m\u001b[43minfo\u001b[49m\u001b[43m,\u001b[49m\u001b[43m \u001b[49m\u001b[38;5;28;43mself\u001b[39;49m\u001b[38;5;241;43m.\u001b[39;49m\u001b[43mfields\u001b[49m\u001b[43m,\u001b[49m\u001b[43m \u001b[49m\u001b[43mstart_di\u001b[49m\u001b[43m,\u001b[49m\u001b[43m \u001b[49m\u001b[43mend_di\u001b[49m\u001b[43m,\u001b[49m\u001b[43m \u001b[49m\u001b[43msig\u001b[49m\u001b[38;5;241;43m.\u001b[39;49m\u001b[43mshape\u001b[49m\u001b[43m[\u001b[49m\u001b[38;5;241;43m1\u001b[39;49m\u001b[43m]\u001b[49m\u001b[43m)\u001b[49m\n\u001b[1;32m    531\u001b[0m \u001b[38;5;28;01melse\u001b[39;00m:\n\u001b[1;32m    532\u001b[0m     cal_ts_info(info, \u001b[38;5;28mself\u001b[39m\u001b[38;5;241m.\u001b[39mfields, start_di, end_di)\n",
      "File \u001b[0;32m~/entrance/analytool/dao/bag/simlf/src/basic/lib/pnl3.py:175\u001b[0m, in \u001b[0;36mcal_ts_info_3d\u001b[0;34m(info, ts_fields, start_di, end_di, intervals)\u001b[0m\n\u001b[1;32m    172\u001b[0m     info[\u001b[38;5;124m\"\u001b[39m\u001b[38;5;124mtcost.ts\u001b[39m\u001b[38;5;124m\"\u001b[39m] \u001b[38;5;241m=\u001b[39m \u001b[38;5;241m-\u001b[39minfo[\u001b[38;5;124m\"\u001b[39m\u001b[38;5;124mtvr.ts\u001b[39m\u001b[38;5;124m\"\u001b[39m] \u001b[38;5;241m*\u001b[39m info[\u001b[38;5;124m\"\u001b[39m\u001b[38;5;124mfee_rate\u001b[39m\u001b[38;5;124m\"\u001b[39m]\n\u001b[1;32m    174\u001b[0m \u001b[38;5;28;01mif\u001b[39;00m \u001b[38;5;124m\"\u001b[39m\u001b[38;5;124mpnl.ts\u001b[39m\u001b[38;5;124m\"\u001b[39m \u001b[38;5;129;01min\u001b[39;00m ts_fields:\n\u001b[0;32m--> 175\u001b[0m     info[\u001b[38;5;124m\"\u001b[39m\u001b[38;5;124mpnl.ts\u001b[39m\u001b[38;5;124m\"\u001b[39m] \u001b[38;5;241m=\u001b[39m \u001b[43m_cal_ts_pnl\u001b[49m\u001b[43m(\u001b[49m\u001b[43msig\u001b[49m\u001b[43m,\u001b[49m\u001b[43m \u001b[49m\u001b[43mret\u001b[49m\u001b[43m,\u001b[49m\u001b[43m \u001b[49m\u001b[43mstart_di\u001b[49m\u001b[43m,\u001b[49m\u001b[43m \u001b[49m\u001b[43mend_di\u001b[49m\u001b[43m)\u001b[49m \u001b[38;5;241m+\u001b[39m info[\u001b[38;5;124m\"\u001b[39m\u001b[38;5;124mtcost.ts\u001b[39m\u001b[38;5;124m\"\u001b[39m]\n\u001b[1;32m    177\u001b[0m \u001b[38;5;28;01mif\u001b[39;00m \u001b[38;5;124m\"\u001b[39m\u001b[38;5;124mlong_pnl.ts\u001b[39m\u001b[38;5;124m\"\u001b[39m \u001b[38;5;129;01min\u001b[39;00m ts_fields:\n\u001b[1;32m    178\u001b[0m     info[\u001b[38;5;124m\"\u001b[39m\u001b[38;5;124mlong_pnl.ts\u001b[39m\u001b[38;5;124m\"\u001b[39m] \u001b[38;5;241m=\u001b[39m _cal_ts_pnl(long_sig, ret, start_di, end_di)\n",
      "File \u001b[0;32m~/entrance/analytool/dao/bag/simlf/src/basic/lib/pnl3.py:131\u001b[0m, in \u001b[0;36mcal_ts_info_3d.<locals>._cal_ts_pnl\u001b[0;34m(sig, ret, start_di, end_di)\u001b[0m\n\u001b[1;32m    129\u001b[0m \u001b[38;5;28;01melse\u001b[39;00m:\n\u001b[1;32m    130\u001b[0m     sig_i[\u001b[38;5;241m0\u001b[39m, \u001b[38;5;241m0\u001b[39m, :] \u001b[38;5;241m=\u001b[39m sig[start_di \u001b[38;5;241m-\u001b[39m \u001b[38;5;241m1\u001b[39m, \u001b[38;5;241m-\u001b[39m\u001b[38;5;241m1\u001b[39m, :]\n\u001b[0;32m--> 131\u001b[0m pnl_i \u001b[38;5;241m=\u001b[39m sig_i \u001b[38;5;241m*\u001b[39m \u001b[43mret\u001b[49m\u001b[43m[\u001b[49m\u001b[43mstart_di\u001b[49m\u001b[43m:\u001b[49m\u001b[43mend_di\u001b[49m\u001b[43m,\u001b[49m\u001b[43m \u001b[49m\u001b[43m:\u001b[49m\u001b[43m,\u001b[49m\u001b[43m \u001b[49m\u001b[43m:\u001b[49m\u001b[43m]\u001b[49m\n\u001b[1;32m    132\u001b[0m \u001b[38;5;28;01mreturn\u001b[39;00m np\u001b[38;5;241m.\u001b[39msum(pnl_i, axis\u001b[38;5;241m=\u001b[39m(\u001b[38;5;241m1\u001b[39m, \u001b[38;5;241m2\u001b[39m))\n",
      "File \u001b[0;32m~/miniconda3/envs/billi/lib/python3.9/site-packages/numpy/core/memmap.py:334\u001b[0m, in \u001b[0;36mmemmap.__getitem__\u001b[0;34m(self, index)\u001b[0m\n\u001b[1;32m    333\u001b[0m \u001b[38;5;28;01mdef\u001b[39;00m \u001b[38;5;21m__getitem__\u001b[39m(\u001b[38;5;28mself\u001b[39m, index):\n\u001b[0;32m--> 334\u001b[0m     res \u001b[38;5;241m=\u001b[39m \u001b[38;5;28;43msuper\u001b[39;49m\u001b[43m(\u001b[49m\u001b[43m)\u001b[49m\u001b[38;5;241;43m.\u001b[39;49m\u001b[38;5;21;43m__getitem__\u001b[39;49m\u001b[43m(\u001b[49m\u001b[43mindex\u001b[49m\u001b[43m)\u001b[49m\n\u001b[1;32m    335\u001b[0m     \u001b[38;5;28;01mif\u001b[39;00m \u001b[38;5;28mtype\u001b[39m(res) \u001b[38;5;129;01mis\u001b[39;00m memmap \u001b[38;5;129;01mand\u001b[39;00m res\u001b[38;5;241m.\u001b[39m_mmap \u001b[38;5;129;01mis\u001b[39;00m \u001b[38;5;28;01mNone\u001b[39;00m:\n\u001b[1;32m    336\u001b[0m         \u001b[38;5;28;01mreturn\u001b[39;00m res\u001b[38;5;241m.\u001b[39mview(\u001b[38;5;28mtype\u001b[39m\u001b[38;5;241m=\u001b[39mndarray)\n",
      "\u001b[0;31mIndexError\u001b[0m: too many indices for array: array is 2-dimensional, but 3 were indexed"
     ]
    }
   ],
   "source": [
    "sim.register_pnl3().pnl3.set_fields(region='cn')\n",
    "\n",
    "sim.pnl3.show_pnls(x, start_date=20220101, freq='yearly', plot=False)"
   ]
  },
  {
   "cell_type": "code",
   "execution_count": null,
   "metadata": {},
   "outputs": [],
   "source": []
  }
 ],
 "metadata": {
  "kernelspec": {
   "display_name": "billi",
   "language": "python",
   "name": "python3"
  },
  "language_info": {
   "codemirror_mode": {
    "name": "ipython",
    "version": 3
   },
   "file_extension": ".py",
   "mimetype": "text/x-python",
   "name": "python",
   "nbconvert_exporter": "python",
   "pygments_lexer": "ipython3",
   "version": "3.9.6"
  }
 },
 "nbformat": 4,
 "nbformat_minor": 2
}

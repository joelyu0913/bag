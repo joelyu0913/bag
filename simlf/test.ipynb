{
 "cells": [
  {
   "cell_type": "code",
   "execution_count": 16,
   "metadata": {},
   "outputs": [
    {
     "name": "stdout",
     "output_type": "stream",
     "text": [
      "The autoreload extension is already loaded. To reload it, use:\n",
      "  %reload_ext autoreload\n"
     ]
    }
   ],
   "source": [
    "%load_ext autoreload\n",
    "%autoreload 2\n",
    "import sys, os\n",
    "import numpy as np\n",
    "\n",
    "sys.path.append('src')\n",
    "# sys.path = ['src']\n",
    "from basic.lib.simm import Sim\n",
    "\n",
    "sim = Sim({'cache_dir': '/export/data/billi/tmp/tmp_simlf/cache/cn'})\n",
    "sys.path = ['/home/billi/entrance/analytool/dao/bag/simlf',  '/home/billi/miniconda3/envs/billi/lib/python39.zip', '/home/billi/miniconda3/envs/billi/lib/python3.9', '/home/billi/miniconda3/envs/billi/lib/python3.9/lib-dynload', '/home/billi/miniconda3/envs/billi/lib/python3.9/site-packages', 'src']\n"
   ]
  },
  {
   "cell_type": "code",
   "execution_count": 17,
   "metadata": {},
   "outputs": [],
   "source": [
    "sim_ = Sim({'cache_dir': '/export/data/billi/tmp/yang/cache/cn/'})"
   ]
  },
  {
   "cell_type": "code",
   "execution_count": 18,
   "metadata": {},
   "outputs": [],
   "source": [
    "x = sim.load_mod('sup_taq/i_trd_dvol')\n",
    "y = sim_.load_mod('sup_taq/i_trd_dvol')\n"
   ]
  },
  {
   "cell_type": "code",
   "execution_count": 23,
   "metadata": {},
   "outputs": [
    {
     "data": {
      "text/plain": [
       "(2877, 50, 6000)"
      ]
     },
     "execution_count": 23,
     "metadata": {},
     "output_type": "execute_result"
    }
   ],
   "source": [
    "y.shape"
   ]
  },
  {
   "cell_type": "code",
   "execution_count": 27,
   "metadata": {},
   "outputs": [
    {
     "data": {
      "text/plain": [
       "(array([   0,    0,    1, ..., 2454, 2454, 2454]),\n",
       " array([0, 0, 0, ..., 0, 0, 0]),\n",
       " array([3671, 3683, 3671, ..., 4771, 4883, 4886]))"
      ]
     },
     "execution_count": 27,
     "metadata": {},
     "output_type": "execute_result"
    }
   ],
   "source": [
    "mask = np.abs(x[:y.shape[0]] - y) > 0.1\n",
    "np.where(mask)"
   ]
  },
  {
   "cell_type": "code",
   "execution_count": 32,
   "metadata": {},
   "outputs": [
    {
     "data": {
      "text/plain": [
       "(memmap([2568006.,      nan,      nan,      nan,      nan], dtype=float32),\n",
       " memmap([ 0., nan, nan, nan, nan], dtype=float32))"
      ]
     },
     "execution_count": 32,
     "metadata": {},
     "output_type": "execute_result"
    }
   ],
   "source": [
    "x[3, 0:5, 3671], y[3, 0:5, 3671]"
   ]
  },
  {
   "cell_type": "code",
   "execution_count": 35,
   "metadata": {},
   "outputs": [
    {
     "data": {
      "text/plain": [
       "(memmap([1211760., 5418456.,  575262.,  789930.,  118054.,  122610.,\n",
       "          123950.,  445148.,  196578.,   97016.,  169644.,  130382.,\n",
       "          169778.,  486018.,  189610.,   27738.,   25862.,  111354.,\n",
       "          306056.,   48106.,   34974.,   77452.,   17956.,   86832.,\n",
       "          115240.,      nan,  424378.,  104654.,   61104.,   32562.,\n",
       "           74772.,    8576.,   55610.,   66464.,   24120.,   37386.,\n",
       "           29480.,  100232.,   19296.,   70886.,  152760.,  127702.,\n",
       "           73030.,  296542.,   13534.,   23584.,   35912.,  122342.,\n",
       "          226996.,  276442.], dtype=float32),\n",
       " memmap([1211760., 5418456.,  575262.,  789930.,  118054.,  122610.,\n",
       "          123950.,  445148.,  196578.,   97016.,  169644.,  130382.,\n",
       "          169778.,  486018.,  189610.,   27738.,   25862.,  111354.,\n",
       "          306056.,   48106.,   34974.,   77452.,   17956.,   86832.,\n",
       "          115240.,      nan,  424378.,  104654.,   61104.,   32562.,\n",
       "           74772.,    8576.,   55610.,   66464.,   24120.,   37386.,\n",
       "           29480.,  100232.,   19296.,   70886.,  152760.,  127702.,\n",
       "           73030.,  296542.,   13534.,   23584.,   35912.,  122342.,\n",
       "          226996.,  276442.], dtype=float32))"
      ]
     },
     "execution_count": 35,
     "metadata": {},
     "output_type": "execute_result"
    }
   ],
   "source": [
    "x[0,:,0], y[0,:,0]"
   ]
  },
  {
   "cell_type": "code",
   "execution_count": 38,
   "metadata": {},
   "outputs": [
    {
     "data": {
      "text/plain": [
       "(memmap([[[1.35, 5.1 ,  nan, ...,  nan,  nan,  nan],\n",
       "          [1.34, 5.11,  nan, ...,  nan,  nan,  nan],\n",
       "          [1.34, 5.14,  nan, ...,  nan,  nan,  nan],\n",
       "          ...,\n",
       "          [1.34, 5.07,  nan, ...,  nan,  nan,  nan],\n",
       "          [1.34, 5.06,  nan, ...,  nan,  nan,  nan],\n",
       "          [1.34, 5.05,  nan, ...,  nan,  nan,  nan]],\n",
       " \n",
       "         [[1.3 , 5.02,  nan, ...,  nan,  nan,  nan],\n",
       "          [1.28, 5.07,  nan, ...,  nan,  nan,  nan],\n",
       "          [1.27, 5.11,  nan, ...,  nan,  nan,  nan],\n",
       "          ...,\n",
       "          [1.33, 5.13,  nan, ...,  nan,  nan,  nan],\n",
       "          [1.32, 5.13,  nan, ...,  nan,  nan,  nan],\n",
       "          [1.33, 5.12,  nan, ...,  nan,  nan,  nan]],\n",
       " \n",
       "         [[1.32, 5.14,  nan, ...,  nan,  nan,  nan],\n",
       "          [1.32, 5.13,  nan, ...,  nan,  nan,  nan],\n",
       "          [1.32, 5.1 ,  nan, ...,  nan,  nan,  nan],\n",
       "          ...,\n",
       "          [1.31, 5.11,  nan, ...,  nan,  nan,  nan],\n",
       "          [1.32, 5.1 ,  nan, ...,  nan,  nan,  nan],\n",
       "          [1.32, 5.1 ,  nan, ...,  nan,  nan,  nan]],\n",
       " \n",
       "         ...,\n",
       " \n",
       "         [[ nan,  nan,  nan, ...,  nan,  nan,  nan],\n",
       "          [ nan,  nan,  nan, ...,  nan,  nan,  nan],\n",
       "          [ nan,  nan,  nan, ...,  nan,  nan,  nan],\n",
       "          ...,\n",
       "          [ nan,  nan,  nan, ...,  nan,  nan,  nan],\n",
       "          [ nan,  nan,  nan, ...,  nan,  nan,  nan],\n",
       "          [ nan,  nan,  nan, ...,  nan,  nan,  nan]],\n",
       " \n",
       "         [[ nan,  nan,  nan, ...,  nan,  nan,  nan],\n",
       "          [ nan,  nan,  nan, ...,  nan,  nan,  nan],\n",
       "          [ nan,  nan,  nan, ...,  nan,  nan,  nan],\n",
       "          ...,\n",
       "          [ nan,  nan,  nan, ...,  nan,  nan,  nan],\n",
       "          [ nan,  nan,  nan, ...,  nan,  nan,  nan],\n",
       "          [ nan,  nan,  nan, ...,  nan,  nan,  nan]],\n",
       " \n",
       "         [[ nan,  nan,  nan, ...,  nan,  nan,  nan],\n",
       "          [ nan,  nan,  nan, ...,  nan,  nan,  nan],\n",
       "          [ nan,  nan,  nan, ...,  nan,  nan,  nan],\n",
       "          ...,\n",
       "          [ nan,  nan,  nan, ...,  nan,  nan,  nan],\n",
       "          [ nan,  nan,  nan, ...,  nan,  nan,  nan],\n",
       "          [ nan,  nan,  nan, ...,  nan,  nan,  nan]]], dtype=float32),\n",
       " memmap([[[1.35, 5.1 ,  nan, ...,  nan,  nan,  nan],\n",
       "          [1.34, 5.11,  nan, ...,  nan,  nan,  nan],\n",
       "          [1.34, 5.14,  nan, ...,  nan,  nan,  nan],\n",
       "          ...,\n",
       "          [1.34, 5.07,  nan, ...,  nan,  nan,  nan],\n",
       "          [1.34, 5.06,  nan, ...,  nan,  nan,  nan],\n",
       "          [1.34, 5.05,  nan, ...,  nan,  nan,  nan]],\n",
       " \n",
       "         [[1.3 , 5.02,  nan, ...,  nan,  nan,  nan],\n",
       "          [1.28, 5.07,  nan, ...,  nan,  nan,  nan],\n",
       "          [1.27, 5.11,  nan, ...,  nan,  nan,  nan],\n",
       "          ...,\n",
       "          [1.33, 5.13,  nan, ...,  nan,  nan,  nan],\n",
       "          [1.32, 5.13,  nan, ...,  nan,  nan,  nan],\n",
       "          [1.33, 5.12,  nan, ...,  nan,  nan,  nan]],\n",
       " \n",
       "         [[1.32, 5.14,  nan, ...,  nan,  nan,  nan],\n",
       "          [1.32, 5.13,  nan, ...,  nan,  nan,  nan],\n",
       "          [1.32, 5.1 ,  nan, ...,  nan,  nan,  nan],\n",
       "          ...,\n",
       "          [1.31, 5.11,  nan, ...,  nan,  nan,  nan],\n",
       "          [1.32, 5.1 ,  nan, ...,  nan,  nan,  nan],\n",
       "          [1.32, 5.1 ,  nan, ...,  nan,  nan,  nan]],\n",
       " \n",
       "         ...,\n",
       " \n",
       "         [[ nan,  nan,  nan, ...,  nan,  nan,  nan],\n",
       "          [ nan,  nan,  nan, ...,  nan,  nan,  nan],\n",
       "          [ nan,  nan,  nan, ...,  nan,  nan,  nan],\n",
       "          ...,\n",
       "          [ nan,  nan,  nan, ...,  nan,  nan,  nan],\n",
       "          [ nan,  nan,  nan, ...,  nan,  nan,  nan],\n",
       "          [ nan,  nan,  nan, ...,  nan,  nan,  nan]],\n",
       " \n",
       "         [[ nan,  nan,  nan, ...,  nan,  nan,  nan],\n",
       "          [ nan,  nan,  nan, ...,  nan,  nan,  nan],\n",
       "          [ nan,  nan,  nan, ...,  nan,  nan,  nan],\n",
       "          ...,\n",
       "          [ nan,  nan,  nan, ...,  nan,  nan,  nan],\n",
       "          [ nan,  nan,  nan, ...,  nan,  nan,  nan],\n",
       "          [ nan,  nan,  nan, ...,  nan,  nan,  nan]],\n",
       " \n",
       "         [[ nan,  nan,  nan, ...,  nan,  nan,  nan],\n",
       "          [ nan,  nan,  nan, ...,  nan,  nan,  nan],\n",
       "          [ nan,  nan,  nan, ...,  nan,  nan,  nan],\n",
       "          ...,\n",
       "          [ nan,  nan,  nan, ...,  nan,  nan,  nan],\n",
       "          [ nan,  nan,  nan, ...,  nan,  nan,  nan],\n",
       "          [ nan,  nan,  nan, ...,  nan,  nan,  nan]]], dtype=float32))"
      ]
     },
     "execution_count": 38,
     "metadata": {},
     "output_type": "execute_result"
    }
   ],
   "source": [
    "x = sim.load_mod('sup_taq/i_trd_last')\n",
    "y = sim_.load_mod('sup_taq/i_trd_last')\n",
    "x, y"
   ]
  },
  {
   "cell_type": "code",
   "execution_count": 39,
   "metadata": {},
   "outputs": [
    {
     "data": {
      "text/plain": [
       "(array([], dtype=int64), array([], dtype=int64), array([], dtype=int64))"
      ]
     },
     "execution_count": 39,
     "metadata": {},
     "output_type": "execute_result"
    }
   ],
   "source": [
    "mask = np.abs(x[:y.shape[0]] - y) > 0.1\n",
    "np.where(mask)"
   ]
  },
  {
   "cell_type": "code",
   "execution_count": null,
   "metadata": {},
   "outputs": [
    {
     "data": {
      "text/plain": [
       "array([[[False, False, False, ..., False, False, False],\n",
       "        [False, False, False, ..., False, False, False],\n",
       "        [False, False, False, ..., False, False, False],\n",
       "        ...,\n",
       "        [False, False, False, ..., False, False, False],\n",
       "        [False, False, False, ..., False, False, False],\n",
       "        [False, False, False, ..., False, False, False]],\n",
       "\n",
       "       [[False, False, False, ..., False, False, False],\n",
       "        [False, False, False, ..., False, False, False],\n",
       "        [False, False, False, ..., False, False, False],\n",
       "        ...,\n",
       "        [False, False, False, ..., False, False, False],\n",
       "        [False, False, False, ..., False, False, False],\n",
       "        [False, False, False, ..., False, False, False]],\n",
       "\n",
       "       [[False, False, False, ..., False, False, False],\n",
       "        [False, False, False, ..., False, False, False],\n",
       "        [False, False, False, ..., False, False, False],\n",
       "        ...,\n",
       "        [False, False, False, ..., False, False, False],\n",
       "        [False, False, False, ..., False, False, False],\n",
       "        [False, False, False, ..., False, False, False]],\n",
       "\n",
       "       ...,\n",
       "\n",
       "       [[False, False, False, ..., False, False, False],\n",
       "        [False, False, False, ..., False, False, False],\n",
       "        [False, False, False, ..., False, False, False],\n",
       "        ...,\n",
       "        [False, False, False, ..., False, False, False],\n",
       "        [False, False, False, ..., False, False, False],\n",
       "        [False, False, False, ..., False, False, False]],\n",
       "\n",
       "       [[False, False, False, ..., False, False, False],\n",
       "        [False, False, False, ..., False, False, False],\n",
       "        [False, False, False, ..., False, False, False],\n",
       "        ...,\n",
       "        [False, False, False, ..., False, False, False],\n",
       "        [False, False, False, ..., False, False, False],\n",
       "        [False, False, False, ..., False, False, False]],\n",
       "\n",
       "       [[False, False, False, ..., False, False, False],\n",
       "        [False, False, False, ..., False, False, False],\n",
       "        [False, False, False, ..., False, False, False],\n",
       "        ...,\n",
       "        [False, False, False, ..., False, False, False],\n",
       "        [False, False, False, ..., False, False, False],\n",
       "        [False, False, False, ..., False, False, False]]])"
      ]
     },
     "execution_count": 52,
     "metadata": {},
     "output_type": "execute_result"
    }
   ],
   "source": [
    "t = np.logical_xor(np.isfinite(x[:y.shape[0]]), np.isfinite(y))"
   ]
  },
  {
   "cell_type": "code",
   "execution_count": null,
   "metadata": {},
   "outputs": [
    {
     "data": {
      "text/plain": [
       "(array([   0,    0,    0, ..., 2454, 2454, 2454]),\n",
       " array([ 0,  0,  1, ..., 49, 49, 49]),\n",
       " array([3671, 3683, 3671, ..., 4886, 4895, 4904]))"
      ]
     },
     "execution_count": 53,
     "metadata": {},
     "output_type": "execute_result"
    }
   ],
   "source": [
    "np.where(t)"
   ]
  },
  {
   "cell_type": "code",
   "execution_count": 55,
   "metadata": {},
   "outputs": [
    {
     "data": {
      "text/plain": [
       "(memmap([7., 7., 7., 7., 7.], dtype=float32),\n",
       " memmap([nan, nan, nan, nan, nan], dtype=float32))"
      ]
     },
     "execution_count": 55,
     "metadata": {},
     "output_type": "execute_result"
    }
   ],
   "source": [
    "x[0,0:5, 3671], y[0,0:5, 3671]"
   ]
  },
  {
   "cell_type": "code",
   "execution_count": null,
   "metadata": {},
   "outputs": [],
   "source": []
  }
 ],
 "metadata": {
  "kernelspec": {
   "display_name": "billi",
   "language": "python",
   "name": "python3"
  },
  "language_info": {
   "codemirror_mode": {
    "name": "ipython",
    "version": 3
   },
   "file_extension": ".py",
   "mimetype": "text/x-python",
   "name": "python",
   "nbconvert_exporter": "python",
   "pygments_lexer": "ipython3",
   "version": "3.9.6"
  }
 },
 "nbformat": 4,
 "nbformat_minor": 2
}

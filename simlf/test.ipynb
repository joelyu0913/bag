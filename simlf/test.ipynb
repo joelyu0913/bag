{
 "cells": [
  {
   "cell_type": "code",
   "execution_count": 23,
   "metadata": {},
   "outputs": [
    {
     "name": "stdout",
     "output_type": "stream",
     "text": [
      "The autoreload extension is already loaded. To reload it, use:\n",
      "  %reload_ext autoreload\n"
     ]
    }
   ],
   "source": [
    "%load_ext autoreload\n",
    "%autoreload 2\n",
    "import sys, os\n",
    "import numpy as np\n",
    "\n",
    "sys.path.append('src')\n",
    "# sys.path = ['src']\n",
    "from basic.lib.simm import Sim\n",
    "\n",
    "sim = Sim({'cache_dir': 'tmp/cache/cn/'})\n",
    "sys.path = ['/home/billi/entrance/analytool/dao/bag/simlf',  '/home/billi/miniconda3/envs/billi/lib/python39.zip', '/home/billi/miniconda3/envs/billi/lib/python3.9', '/home/billi/miniconda3/envs/billi/lib/python3.9/lib-dynload', '/home/billi/miniconda3/envs/billi/lib/python3.9/site-packages', 'src']\n"
   ]
  },
  {
   "cell_type": "code",
   "execution_count": 38,
   "metadata": {},
   "outputs": [],
   "source": [
    "import matplotlib.pyplot as plt\n",
    "sim = Sim({'cache_dir': 'tmp/cache/cn_jp/'})"
   ]
  },
  {
   "cell_type": "code",
   "execution_count": 50,
   "metadata": {},
   "outputs": [],
   "source": [
    "adj = sim.load_mod('base/adj')\n",
    "close = sim.load_mod('base/close')\n",
    "adj_close = sim.load_mod('base/adj_close')\n",
    "univ_all = sim.load_mod('base/univ_all')\n",
    "x = sim.load_mod('test/kdr_py_test_1_true')\n",
    "ret = sim.load_mod('base/ret')"
   ]
  },
  {
   "cell_type": "code",
   "execution_count": 49,
   "metadata": {},
   "outputs": [],
   "source": [
    "y = np.cumsum(np.nansum(x[0:1999] * ret[1:2000], axis=1))\n",
    "pd.DataFrame(y).to_csv('y.csv')"
   ]
  },
  {
   "cell_type": "code",
   "execution_count": 52,
   "metadata": {},
   "outputs": [],
   "source": [
    "import pandas as pd\n",
    "pd.DataFrame(close[:1000, :sim.univ_size]).to_csv('close.csv', index=False, header=False)\n",
    "pd.DataFrame(univ_all[:1000, :sim.univ_size].astype(int)).to_csv('univ_all.csv', index=False, header=False)\n",
    "pd.DataFrame(adj[:1000, :sim.univ_size]).to_csv('adj.csv', index=False, header=False)\n",
    "pd.DataFrame(list(sim.univ)).to_csv('univ.csv', index=False, header=False)\n",
    "\n",
    "pd.DataFrame(x[:1000, :sim.univ_size]).to_csv('x.csv', index=False, header=False)"
   ]
  },
  {
   "cell_type": "code",
   "execution_count": 30,
   "metadata": {},
   "outputs": [
    {
     "data": {
      "text/plain": [
       "['000001.SZ',\n",
       " '000002.SZ',\n",
       " '000003.SZ',\n",
       " '000004.SZ',\n",
       " '000005.SZ',\n",
       " '000006.SZ',\n",
       " '000007.SZ',\n",
       " '000008.SZ',\n",
       " '000009.SZ',\n",
       " '000010.SZ',\n",
       " '000011.SZ',\n",
       " '000012.SZ',\n",
       " '000013.SZ',\n",
       " '000014.SZ',\n",
       " '000015.SZ',\n",
       " '000016.SZ',\n",
       " '000017.SZ',\n",
       " '000018.SZ',\n",
       " '000019.SZ',\n",
       " '000020.SZ']"
      ]
     },
     "execution_count": 30,
     "metadata": {},
     "output_type": "execute_result"
    }
   ],
   "source": [
    "list(sim.univ)"
   ]
  },
  {
   "cell_type": "code",
   "execution_count": null,
   "metadata": {},
   "outputs": [],
   "source": []
  }
 ],
 "metadata": {
  "kernelspec": {
   "display_name": "billi",
   "language": "python",
   "name": "python3"
  },
  "language_info": {
   "codemirror_mode": {
    "name": "ipython",
    "version": 3
   },
   "file_extension": ".py",
   "mimetype": "text/x-python",
   "name": "python",
   "nbconvert_exporter": "python",
   "pygments_lexer": "ipython3",
   "version": "3.9.6"
  }
 },
 "nbformat": 4,
 "nbformat_minor": 2
}
